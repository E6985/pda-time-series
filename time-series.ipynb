{
 "cells": [
  {
   "cell_type": "markdown",
   "metadata": {},
   "source": [
    "< [GMIT Data Analytics](https://web.archive.org/web/20201029063153/https://www.gmit.ie/computer-science-and-applied-physics/higher-diploma-science-computing-data-analytics-ict) | [Table of Contents](https://github.com/E6985) | [README](https://github.com/E6985/pda-time-series/blob/main/README.md) >\n",
    "\n",
    "![GMIT](https://github.com/E6985/pda-numpy-random/blob/main/img/gmit.png?raw=true)\n",
    "\n",
    "## time-series\n",
    "***"
   ]
  },
  {
   "cell_type": "code",
   "execution_count": 1,
   "metadata": {},
   "outputs": [],
   "source": [
    "# execute from file - .py\n",
    "%run ~/L8733/src/pro/par/pyt/magic/fGetModuleType.py"
   ]
  },
  {
   "cell_type": "markdown",
   "metadata": {},
   "source": [
    "> ~~looking at time series - time series - or just datasets where one of the variables is a date or a time or both - so an example would be if you are a hospital director - you would probably be interested in the number of admissions coming into your hospital - and lets say on an hourly basis - or indeed - maybe a minute by minute basis - or say - a daily basis - so you might collect data - you might measure the number of admissions you are making - lets say - every hour - and for maybe two weeks - so you would have 24 hours in your day - you would have 14 days that you were doing it - so you would have a dataset with 24 by 14 different rows - and each row would represent an hour of time - during the time you are collecting your data - and you would be measuring things like the number of admissions - you might - and even break it down and say - how many of these admissions were for - you know - people over the age of eighty - lets say - how many of them were paediatric admissions - and - and different things like that~~ [\n",
    "[..] I. McLoughlin, \"Time series introduction,\" GMIT, November 2018.\n",
    "]"
   ]
  },
  {
   "cell_type": "markdown",
   "metadata": {},
   "source": [
    "> ~~so if you collect a dataset - one of the variables is a data of time - you have a time series - thats basically the idea - you have a time series based dataset - and dates and times - it can be tricky to deal with on a computer - partly because - as humans - we have the convention that we talk about dates and times - and in terms of - years - months - days - hours - minutes - seconds - and milliseconds - microseconds - maybe you might even talk about decades - or centuries or whatever - for whatever reason - we have settled on there being awkward numbers - awkward relationships between the various components of a datetime - so for instance - there are 60 seconds in a minute - 60 is a bit of an awkward number - we could have redefined the second so that there are 100 of them - or 10 of them or whatever - but we have not chosen to do that - and likewise - there are 24 hours in a day - and so 24 is a bit of an awkward number as well - its certainly not along the lines of any metric system or anything like that - so anyway - and we are used to dealing in those terms as humans - and but computers do not like them so much - and which is why most - most of the time a computer will store a given point in time as a number - how it stores that as a number - you do not need to get into too much detail about but - basically - i think the idea is that - and theres a point in time that most computers use as kind of time zero - which i think is the first of january 1970 - and from the first millisecond from that point in time - the computer accounts 1234 all the way up to the current point in time - and so thats how the computer thinks of dates and times it thinks of them as a number that gets bigger the further you move away from the 1st january 1970~~ [\n",
    "[..] I. McLoughlin, \"Time series introduction,\" GMIT, November 2018.\n",
    "] "
   ]
  },
  {
   "cell_type": "markdown",
   "metadata": {},
   "source": [
    "> ~~computers were able to deal with numbers with dates and times before 1970 - and a lot of it comes down to the implementation that you are using - and we do not have to worry too much about that - its just it is its worth noting that in the background - python is thinking of dates and times as just numbers~~ [\n",
    "[..] I. McLoughlin, \"Time series introduction,\" GMIT, November 2018.\n",
    "]"
   ]
  },
  {
   "cell_type": "markdown",
   "metadata": {},
   "source": [
    "> ~~python comes with a very handy package called [datetime](https://pandas.pydata.org/pandas-docs/stable/timeseries.html) - and indeed - theres a theres another package called time - and theres possibly one called date - and they come as part of the python standard library - which means they are installed alongside python - and the datetime package contains lots of useful functions for translating between how we think of dates - and how the computer thinks of dates - so we are able to talk to the datetime package about hours and minutes and all that sort of stuff - and in the background is will translate that into however python wants to talk about dates - whether its integers or floating point numbers or whatever~~ [\n",
    "[..] I. McLoughlin, \"Time series introduction,\" GMIT, November 2018.\n",
    "]"
   ]
  },
  {
   "cell_type": "markdown",
   "metadata": {},
   "source": [
    "> ~~so theres a lot of theres a lot of stuff in this package - and sometimes it can be frustrating when you are not familiar with dealing with dates and times on a computer - and it can be frustrating to get your head around all of the different terminology and all that sort of stuff - possibly i think most people do not actually think that much about dates and times - they are so used to them - that they are just kind of like second nature to them - you know - and but once you actually try to figure out algorithms based on your time series and and you want to do a bit of analytics on a time series dataset - you quickly realise actually - a lot of the stuff that you automatically do as a human because you are so familiar with dates and times - you have not thought that much about it - and the different concepts involved in it - but if you are going to program with dates and times - you are going to have to go through a lot of those concepts sort of formally and break down what you mean by a given sentence that you might just say - such as - give me the number of hospital admissions that happened between 3pm today - and 1pm tomorrow - and then you will start thinking about - well - how many hours is there and the difference there how do i actually calculate that in my head how am i going to tell the computer to calculate that should i include 3pm today and 1pm tomorrow or should i not include them or how should i chop and change different parts of the dataset - so theres a lot of things to think about - and the datetime package in python will be our friend for dealing with that~~ [\n",
    "[..] I. McLoughlin, \"Time series introduction,\" GMIT, November 2018.\n",
    "]"
   ]
  },
  {
   "cell_type": "markdown",
   "metadata": {},
   "source": [
    "> ~~hopefully - we do not have to interact too much with the daytime package - although we will have to do it a little bit - because pandas actually comes with time series and deep functionality sort of built in under the hood - so the pandas python package for dealing with datasets - dataframes - it will be a big help to us when we are dealing with time series data - that said pandas does use the datetime - functionality from the datetime package - and so we will be chopping and changing between the two~~ [\n",
    "[..] I. McLoughlin, \"Time series introduction,\" GMIT, November 2018.\n",
    "]"
   ]
  },
  {
   "cell_type": "markdown",
   "metadata": {},
   "source": [
    "> ~~but pandas can do things like - we can say to us - give me all of the periods from 1st of the 1st 2011 - give us 72 periods - and on an hourly basis - three days - first - second - third - of january 2011 - break that down into hourly periods - we should get 72 different time periods in an array - so you could do things like that - theres lots of different functions like that in the pandas package - we will touch on some of them~~ [\n",
    "[..] I. McLoughlin, \"Time series introduction,\" GMIT, November 2018.\n",
    "]"
   ]
  },
  {
   "cell_type": "code",
   "execution_count": 2,
   "metadata": {},
   "outputs": [],
   "source": [
    "import pandas as pd"
   ]
  },
  {
   "cell_type": "code",
   "execution_count": 3,
   "metadata": {},
   "outputs": [
    {
     "name": "stdout",
     "output_type": "stream",
     "text": [
      "<module 'pandas.core.indexes.datetimes' from 'C:\\\\Users\\\\E6985\\\\anaconda3\\\\lib\\\\site-packages\\\\pandas\\\\core\\\\indexes\\\\datetimes.py'>\n",
      "<class 'pandas.core.indexes.datetimes.DatetimeIndex'>\n"
     ]
    }
   ],
   "source": [
    "# package pandas alias pd - subpackage core - module datatimes - object DatatimeIndex - method data_range - call\n",
    "x=pd.date_range(\"1/1/2011\",periods=72,freq=\"H\")\n",
    "# function fGetModuleType - call\n",
    "fGetModuleType(x)"
   ]
  },
  {
   "cell_type": "code",
   "execution_count": 4,
   "metadata": {},
   "outputs": [
    {
     "data": {
      "text/plain": [
       "DatetimeIndex(['2011-01-01 00:00:00', '2011-01-01 01:00:00',\n",
       "               '2011-01-01 02:00:00', '2011-01-01 03:00:00',\n",
       "               '2011-01-01 04:00:00'],\n",
       "              dtype='datetime64[ns]', freq='H')"
      ]
     },
     "execution_count": 4,
     "metadata": {},
     "output_type": "execute_result"
    }
   ],
   "source": [
    "x[:5]"
   ]
  },
  {
   "cell_type": "markdown",
   "metadata": {},
   "source": [
    "###### Met Eireann data\n",
    "***"
   ]
  },
  {
   "cell_type": "markdown",
   "metadata": {},
   "source": [
    "> ~~will import a simple time series data file - and i will just have a look at it in pandas - and i might plot it using the seaborn package as well - so really - this is just the first foray into having a look at a dataset how you might get it into pandas - and how you might just have a look at it - so i have gone on the internet - and i found a time series dataset here - from data.gov.ie - so its data related to the irish government - met eireann published knock airport weather station data - so they obviously have some sort of a weather station at knock airport - and they have made the csv file - data from that station available~~ [\n",
    "[...] I. McLoughlin, \"Time series importing,\" GMIT, November 2018.\n",
    "]"
   ]
  },
  {
   "cell_type": "markdown",
   "metadata": {},
   "source": [
    "> ~~going to import it directly into pandas - so i do not need to download it to my own machine - just need to get the url - if i copy the link address [here](https://data.gov.ie/dataset/hourly-data-for-buoy-m1) - ``https://cli.fusio.net/cli/climate_data/webdata/dly4935.csv``~~ [\n",
    "[...] I. McLoughlin, \"Time series importing,\" GMIT, November 2018.\n",
    "]"
   ]
  },
  {
   "cell_type": "code",
   "execution_count": 5,
   "metadata": {},
   "outputs": [],
   "source": [
    "df = pd.read_csv(\"http://cli.fusio.net/cli/climate_data/webdata/hly62090.csv\", \n",
    "                 skiprows=19,low_memory=False,nrows=1000)"
   ]
  },
  {
   "cell_type": "markdown",
   "metadata": {},
   "source": [
    "> ~~so what i have done is i have come across a dataset - its time series data - ie one of the variables here is the date/time - when i read it in - it was quite a big dataset - i had to deal with a couple of errors and a couple of warnings - and - and it was quite big - so i curtails down how much i was reading - and now i am just going to do a little bit of an investigation and initial look at the file to see what sort of data is in there - so its a really common part of data analysis - its just getting the dataset in in the first place and having a quick look at it - to see what sort of data is in there - make sure you can read it correctly without any problems - and then you can actually get down to do some work on it~~ [\n",
    "[...] I. McLoughlin, \"Time series importing,\" GMIT, November 2018.\n",
    "]"
   ]
  },
  {
   "cell_type": "code",
   "execution_count": 6,
   "metadata": {},
   "outputs": [
    {
     "data": {
      "text/html": [
       "<div>\n",
       "<style scoped>\n",
       "    .dataframe tbody tr th:only-of-type {\n",
       "        vertical-align: middle;\n",
       "    }\n",
       "\n",
       "    .dataframe tbody tr th {\n",
       "        vertical-align: top;\n",
       "    }\n",
       "\n",
       "    .dataframe thead th {\n",
       "        text-align: right;\n",
       "    }\n",
       "</style>\n",
       "<table border=\"1\" class=\"dataframe\">\n",
       "  <thead>\n",
       "    <tr style=\"text-align: right;\">\n",
       "      <th></th>\n",
       "      <th>date</th>\n",
       "      <th>temp</th>\n",
       "      <th>rhum</th>\n",
       "      <th>wdsp</th>\n",
       "      <th>dir</th>\n",
       "      <th>gust</th>\n",
       "      <th>msl</th>\n",
       "      <th>seatp</th>\n",
       "      <th>per</th>\n",
       "      <th>wavht</th>\n",
       "      <th>mxwave</th>\n",
       "      <th>wvdir</th>\n",
       "    </tr>\n",
       "  </thead>\n",
       "  <tbody>\n",
       "    <tr>\n",
       "      <th>0</th>\n",
       "      <td>06-nov-2000 09:00</td>\n",
       "      <td>10.2</td>\n",
       "      <td>85.0</td>\n",
       "      <td>33.0</td>\n",
       "      <td>360.0</td>\n",
       "      <td>46.000</td>\n",
       "      <td>995.4</td>\n",
       "      <td>11.1</td>\n",
       "      <td></td>\n",
       "      <td></td>\n",
       "      <td></td>\n",
       "      <td></td>\n",
       "    </tr>\n",
       "    <tr>\n",
       "      <th>1</th>\n",
       "      <td>06-nov-2000 10:00</td>\n",
       "      <td>10.0</td>\n",
       "      <td>86.0</td>\n",
       "      <td>30.0</td>\n",
       "      <td>360.0</td>\n",
       "      <td>53.000</td>\n",
       "      <td>995.6</td>\n",
       "      <td>11.1</td>\n",
       "      <td></td>\n",
       "      <td></td>\n",
       "      <td></td>\n",
       "      <td></td>\n",
       "    </tr>\n",
       "    <tr>\n",
       "      <th>2</th>\n",
       "      <td>06-nov-2000 11:00</td>\n",
       "      <td>9.9</td>\n",
       "      <td>84.0</td>\n",
       "      <td>34.0</td>\n",
       "      <td>360.0</td>\n",
       "      <td>48.000</td>\n",
       "      <td>996.4</td>\n",
       "      <td>11.1</td>\n",
       "      <td></td>\n",
       "      <td></td>\n",
       "      <td></td>\n",
       "      <td></td>\n",
       "    </tr>\n",
       "    <tr>\n",
       "      <th>3</th>\n",
       "      <td>06-nov-2000 12:00</td>\n",
       "      <td>9.4</td>\n",
       "      <td>86.0</td>\n",
       "      <td>34.0</td>\n",
       "      <td>360.0</td>\n",
       "      <td>46.000</td>\n",
       "      <td>996.4</td>\n",
       "      <td>11.1</td>\n",
       "      <td></td>\n",
       "      <td></td>\n",
       "      <td></td>\n",
       "      <td></td>\n",
       "    </tr>\n",
       "    <tr>\n",
       "      <th>4</th>\n",
       "      <td>06-nov-2000 13:00</td>\n",
       "      <td>9.7</td>\n",
       "      <td>78.0</td>\n",
       "      <td>34.0</td>\n",
       "      <td>350.0</td>\n",
       "      <td>48.000</td>\n",
       "      <td>996.6</td>\n",
       "      <td>11.1</td>\n",
       "      <td></td>\n",
       "      <td></td>\n",
       "      <td></td>\n",
       "      <td></td>\n",
       "    </tr>\n",
       "    <tr>\n",
       "      <th>...</th>\n",
       "      <td>...</td>\n",
       "      <td>...</td>\n",
       "      <td>...</td>\n",
       "      <td>...</td>\n",
       "      <td>...</td>\n",
       "      <td>...</td>\n",
       "      <td>...</td>\n",
       "      <td>...</td>\n",
       "      <td>...</td>\n",
       "      <td>...</td>\n",
       "      <td>...</td>\n",
       "      <td>...</td>\n",
       "    </tr>\n",
       "    <tr>\n",
       "      <th>995</th>\n",
       "      <td>17-dec-2000 22:00</td>\n",
       "      <td>9.8</td>\n",
       "      <td>77.0</td>\n",
       "      <td>23.0</td>\n",
       "      <td>180.0</td>\n",
       "      <td>30.000</td>\n",
       "      <td>1001.2</td>\n",
       "      <td>10.2</td>\n",
       "      <td></td>\n",
       "      <td></td>\n",
       "      <td></td>\n",
       "      <td></td>\n",
       "    </tr>\n",
       "    <tr>\n",
       "      <th>996</th>\n",
       "      <td>17-dec-2000 23:00</td>\n",
       "      <td>10.1</td>\n",
       "      <td>81.0</td>\n",
       "      <td>22.0</td>\n",
       "      <td>180.0</td>\n",
       "      <td>29.000</td>\n",
       "      <td>1001.2</td>\n",
       "      <td>10.2</td>\n",
       "      <td></td>\n",
       "      <td></td>\n",
       "      <td></td>\n",
       "      <td></td>\n",
       "    </tr>\n",
       "    <tr>\n",
       "      <th>997</th>\n",
       "      <td>18-dec-2000 00:00</td>\n",
       "      <td>10.3</td>\n",
       "      <td>82.0</td>\n",
       "      <td>22.0</td>\n",
       "      <td>180.0</td>\n",
       "      <td>32.000</td>\n",
       "      <td>1001.2</td>\n",
       "      <td>10.0</td>\n",
       "      <td></td>\n",
       "      <td></td>\n",
       "      <td></td>\n",
       "      <td></td>\n",
       "    </tr>\n",
       "    <tr>\n",
       "      <th>998</th>\n",
       "      <td>18-dec-2000 01:00</td>\n",
       "      <td>10.1</td>\n",
       "      <td>86.0</td>\n",
       "      <td>23.0</td>\n",
       "      <td>190.0</td>\n",
       "      <td>33.000</td>\n",
       "      <td>1001.2</td>\n",
       "      <td>10.2</td>\n",
       "      <td></td>\n",
       "      <td></td>\n",
       "      <td></td>\n",
       "      <td></td>\n",
       "    </tr>\n",
       "    <tr>\n",
       "      <th>999</th>\n",
       "      <td>18-dec-2000 02:00</td>\n",
       "      <td>10.2</td>\n",
       "      <td>89.0</td>\n",
       "      <td>20.0</td>\n",
       "      <td>190.0</td>\n",
       "      <td>30.000</td>\n",
       "      <td>1001.0</td>\n",
       "      <td>10.2</td>\n",
       "      <td></td>\n",
       "      <td></td>\n",
       "      <td></td>\n",
       "      <td></td>\n",
       "    </tr>\n",
       "  </tbody>\n",
       "</table>\n",
       "<p>1000 rows × 12 columns</p>\n",
       "</div>"
      ],
      "text/plain": [
       "                  date  temp  rhum  wdsp    dir    gust     msl  seatp per  \\\n",
       "0    06-nov-2000 09:00  10.2  85.0  33.0  360.0  46.000   995.4   11.1       \n",
       "1    06-nov-2000 10:00  10.0  86.0  30.0  360.0  53.000   995.6   11.1       \n",
       "2    06-nov-2000 11:00   9.9  84.0  34.0  360.0  48.000   996.4   11.1       \n",
       "3    06-nov-2000 12:00   9.4  86.0  34.0  360.0  46.000   996.4   11.1       \n",
       "4    06-nov-2000 13:00   9.7  78.0  34.0  350.0  48.000   996.6   11.1       \n",
       "..                 ...   ...   ...   ...    ...     ...     ...    ...  ..   \n",
       "995  17-dec-2000 22:00   9.8  77.0  23.0  180.0  30.000  1001.2   10.2       \n",
       "996  17-dec-2000 23:00  10.1  81.0  22.0  180.0  29.000  1001.2   10.2       \n",
       "997  18-dec-2000 00:00  10.3  82.0  22.0  180.0  32.000  1001.2   10.0       \n",
       "998  18-dec-2000 01:00  10.1  86.0  23.0  190.0  33.000  1001.2   10.2       \n",
       "999  18-dec-2000 02:00  10.2  89.0  20.0  190.0  30.000  1001.0   10.2       \n",
       "\n",
       "    wavht mxwave wvdir  \n",
       "0                       \n",
       "1                       \n",
       "2                       \n",
       "3                       \n",
       "4                       \n",
       "..    ...    ...   ...  \n",
       "995                     \n",
       "996                     \n",
       "997                     \n",
       "998                     \n",
       "999                     \n",
       "\n",
       "[1000 rows x 12 columns]"
      ]
     },
     "execution_count": 6,
     "metadata": {},
     "output_type": "execute_result"
    }
   ],
   "source": [
    "df"
   ]
  },
  {
   "cell_type": "markdown",
   "metadata": {},
   "source": [
    "> ~~so i will continue on a couple of more investigations - let me have a look at the date column - so the date column even though its called date - seems to contain a date and a time - and down at the bottom here - and pandas is telling me that its currently started as saving us as a type object - so its ``dtype`` is object - its the various types of columns that you can have in a pandas dataset - actually - they come from numpy - the types of numpy arrays can have - an object happens to be the most generic type that a column can have - its when pandas cannot really figure out what type it is - it calls an object - what this actually should be is a datetime type column~~ [\n",
    "[...] I. McLoughlin, \"Time series importing,\" GMIT, November 2018.\n",
    "]"
   ]
  },
  {
   "cell_type": "code",
   "execution_count": 7,
   "metadata": {},
   "outputs": [
    {
     "data": {
      "text/plain": [
       "0      06-nov-2000 09:00\n",
       "1      06-nov-2000 10:00\n",
       "2      06-nov-2000 11:00\n",
       "3      06-nov-2000 12:00\n",
       "4      06-nov-2000 13:00\n",
       "             ...        \n",
       "995    17-dec-2000 22:00\n",
       "996    17-dec-2000 23:00\n",
       "997    18-dec-2000 00:00\n",
       "998    18-dec-2000 01:00\n",
       "999    18-dec-2000 02:00\n",
       "Name: date, Length: 1000, dtype: object"
      ]
     },
     "execution_count": 7,
     "metadata": {},
     "output_type": "execute_result"
    }
   ],
   "source": [
    "df[\"date\"]"
   ]
  },
  {
   "cell_type": "markdown",
   "metadata": {},
   "source": [
    "> ~~pandas has a handy function called to_datetime - so you can call it as pd.to_datetime - and you can give it a column that contains what you think of as a date and time but pandas is currently not thinking of it like that - and you can pass that column into or columns as a may - you know - if your date and time are separate in separate columns - you can pass in the two columns to it - and what this function will do is - it will figure out how to decode this - currently - as i think reading it as a string - decode that into our python style - datetime - and you will see down here and now its turned it into a ``dtype`` of ``datetime64`` - then ``ns`` in square brackets - which is the type that you want pandas to use for your datetime columns - now pandas knows that this is a datetime it - it considers these things here dates and times - whereas previously - it was only thinking of them as objects - it did not realise they were - datetime - function - todate_time - has decoded our dates and times - so that pandas now recognises them~~ [\n",
    "[...] I. McLoughlin, \"Time series importing,\" GMIT, November 2018.\n",
    "]"
   ]
  },
  {
   "cell_type": "code",
   "execution_count": 8,
   "metadata": {},
   "outputs": [
    {
     "data": {
      "text/plain": [
       "0     2000-11-06 09:00:00\n",
       "1     2000-11-06 10:00:00\n",
       "2     2000-11-06 11:00:00\n",
       "3     2000-11-06 12:00:00\n",
       "4     2000-11-06 13:00:00\n",
       "              ...        \n",
       "995   2000-12-17 22:00:00\n",
       "996   2000-12-17 23:00:00\n",
       "997   2000-12-18 00:00:00\n",
       "998   2000-12-18 01:00:00\n",
       "999   2000-12-18 02:00:00\n",
       "Name: date, Length: 1000, dtype: datetime64[ns]"
      ]
     },
     "execution_count": 8,
     "metadata": {},
     "output_type": "execute_result"
    }
   ],
   "source": [
    "pd.to_datetime(df[\"date\"])"
   ]
  },
  {
   "cell_type": "markdown",
   "metadata": {},
   "source": [
    "> ~~now - it would be handy - and in future - currently - the pandas is not treating this column - right as the index for the dataframe - currently - the index for the dataframe is just 012345678 - as before - previously - when we have imported csv files into pandas - pandas wanted a unique key for each of the rows of the dataset - so it started from zero and count up 123456 - but actually - when you are dealing with time series - its often handy to say forget about these numbers here - the 0123456 as the key here - or as the index on the left hand side - instead use the dates and times as long as they are all unique as the index - and then you can use those as your unique key into the - into the dataset - but thats a topic for another time - instead - for now - what i am going to do is in my dataframe - i am going to add a new column called datetime - and i am going to set it to the values that are coming out of this ``to_datetime`` function called on the date column - so when i do that - it does not give me any output - but now if i asked for df - it should show me that theres an extra column in here called datetime - which contains dates and times - created from the date column - so theres one column called date - which was in the original data file - its the original file from met eireann - it contained what looked to me like dates and times - but to python - and pandas - they were not considering them as dates and times - because maybe they were not in the right format - or they just did not automatically process them - so i had to do a little bit of pre-processing here - so i use the to_datetime function in pandas on the date column - which told pandas look that column contains dates and time to go in and have a proper look at it and convert them into what you think of as dates and times - ``pd.to_dateime(df[\"date\"])`` - returned back a column of data - technically a data series - but a dataframe containing a single column - which were all of these dates and times kind of Pythonic - turned into python dates and times - and now i have tagged the output of that function onto my original dataframe as a new column called datetime - so now i have this new datetime column~~ [\n",
    "[...] I. McLoughlin, \"Time series importing,\" GMIT, November 2018.\n",
    "]"
   ]
  },
  {
   "cell_type": "code",
   "execution_count": 9,
   "metadata": {},
   "outputs": [],
   "source": [
    "df[\"datetime\"]=pd.to_datetime(df[\"date\"])"
   ]
  },
  {
   "cell_type": "markdown",
   "metadata": {},
   "source": [
    "> ~~now at the very least - have what pandas considers a datetime series - a column in my dataset that represents a datetime - so theres a sort of a temporal aspect to this dataset~~ [\n",
    "[...] I. McLoughlin, \"Time series importing,\" GMIT, November 2018.\n",
    "]"
   ]
  },
  {
   "cell_type": "code",
   "execution_count": 10,
   "metadata": {},
   "outputs": [
    {
     "data": {
      "text/html": [
       "<div>\n",
       "<style scoped>\n",
       "    .dataframe tbody tr th:only-of-type {\n",
       "        vertical-align: middle;\n",
       "    }\n",
       "\n",
       "    .dataframe tbody tr th {\n",
       "        vertical-align: top;\n",
       "    }\n",
       "\n",
       "    .dataframe thead th {\n",
       "        text-align: right;\n",
       "    }\n",
       "</style>\n",
       "<table border=\"1\" class=\"dataframe\">\n",
       "  <thead>\n",
       "    <tr style=\"text-align: right;\">\n",
       "      <th></th>\n",
       "      <th>date</th>\n",
       "      <th>temp</th>\n",
       "      <th>rhum</th>\n",
       "      <th>wdsp</th>\n",
       "      <th>dir</th>\n",
       "      <th>gust</th>\n",
       "      <th>msl</th>\n",
       "      <th>seatp</th>\n",
       "      <th>per</th>\n",
       "      <th>wavht</th>\n",
       "      <th>mxwave</th>\n",
       "      <th>wvdir</th>\n",
       "      <th>datetime</th>\n",
       "    </tr>\n",
       "  </thead>\n",
       "  <tbody>\n",
       "    <tr>\n",
       "      <th>0</th>\n",
       "      <td>06-nov-2000 09:00</td>\n",
       "      <td>10.2</td>\n",
       "      <td>85.0</td>\n",
       "      <td>33.0</td>\n",
       "      <td>360.0</td>\n",
       "      <td>46.000</td>\n",
       "      <td>995.4</td>\n",
       "      <td>11.1</td>\n",
       "      <td></td>\n",
       "      <td></td>\n",
       "      <td></td>\n",
       "      <td></td>\n",
       "      <td>2000-11-06 09:00:00</td>\n",
       "    </tr>\n",
       "    <tr>\n",
       "      <th>1</th>\n",
       "      <td>06-nov-2000 10:00</td>\n",
       "      <td>10.0</td>\n",
       "      <td>86.0</td>\n",
       "      <td>30.0</td>\n",
       "      <td>360.0</td>\n",
       "      <td>53.000</td>\n",
       "      <td>995.6</td>\n",
       "      <td>11.1</td>\n",
       "      <td></td>\n",
       "      <td></td>\n",
       "      <td></td>\n",
       "      <td></td>\n",
       "      <td>2000-11-06 10:00:00</td>\n",
       "    </tr>\n",
       "    <tr>\n",
       "      <th>2</th>\n",
       "      <td>06-nov-2000 11:00</td>\n",
       "      <td>9.9</td>\n",
       "      <td>84.0</td>\n",
       "      <td>34.0</td>\n",
       "      <td>360.0</td>\n",
       "      <td>48.000</td>\n",
       "      <td>996.4</td>\n",
       "      <td>11.1</td>\n",
       "      <td></td>\n",
       "      <td></td>\n",
       "      <td></td>\n",
       "      <td></td>\n",
       "      <td>2000-11-06 11:00:00</td>\n",
       "    </tr>\n",
       "    <tr>\n",
       "      <th>3</th>\n",
       "      <td>06-nov-2000 12:00</td>\n",
       "      <td>9.4</td>\n",
       "      <td>86.0</td>\n",
       "      <td>34.0</td>\n",
       "      <td>360.0</td>\n",
       "      <td>46.000</td>\n",
       "      <td>996.4</td>\n",
       "      <td>11.1</td>\n",
       "      <td></td>\n",
       "      <td></td>\n",
       "      <td></td>\n",
       "      <td></td>\n",
       "      <td>2000-11-06 12:00:00</td>\n",
       "    </tr>\n",
       "    <tr>\n",
       "      <th>4</th>\n",
       "      <td>06-nov-2000 13:00</td>\n",
       "      <td>9.7</td>\n",
       "      <td>78.0</td>\n",
       "      <td>34.0</td>\n",
       "      <td>350.0</td>\n",
       "      <td>48.000</td>\n",
       "      <td>996.6</td>\n",
       "      <td>11.1</td>\n",
       "      <td></td>\n",
       "      <td></td>\n",
       "      <td></td>\n",
       "      <td></td>\n",
       "      <td>2000-11-06 13:00:00</td>\n",
       "    </tr>\n",
       "    <tr>\n",
       "      <th>...</th>\n",
       "      <td>...</td>\n",
       "      <td>...</td>\n",
       "      <td>...</td>\n",
       "      <td>...</td>\n",
       "      <td>...</td>\n",
       "      <td>...</td>\n",
       "      <td>...</td>\n",
       "      <td>...</td>\n",
       "      <td>...</td>\n",
       "      <td>...</td>\n",
       "      <td>...</td>\n",
       "      <td>...</td>\n",
       "      <td>...</td>\n",
       "    </tr>\n",
       "    <tr>\n",
       "      <th>995</th>\n",
       "      <td>17-dec-2000 22:00</td>\n",
       "      <td>9.8</td>\n",
       "      <td>77.0</td>\n",
       "      <td>23.0</td>\n",
       "      <td>180.0</td>\n",
       "      <td>30.000</td>\n",
       "      <td>1001.2</td>\n",
       "      <td>10.2</td>\n",
       "      <td></td>\n",
       "      <td></td>\n",
       "      <td></td>\n",
       "      <td></td>\n",
       "      <td>2000-12-17 22:00:00</td>\n",
       "    </tr>\n",
       "    <tr>\n",
       "      <th>996</th>\n",
       "      <td>17-dec-2000 23:00</td>\n",
       "      <td>10.1</td>\n",
       "      <td>81.0</td>\n",
       "      <td>22.0</td>\n",
       "      <td>180.0</td>\n",
       "      <td>29.000</td>\n",
       "      <td>1001.2</td>\n",
       "      <td>10.2</td>\n",
       "      <td></td>\n",
       "      <td></td>\n",
       "      <td></td>\n",
       "      <td></td>\n",
       "      <td>2000-12-17 23:00:00</td>\n",
       "    </tr>\n",
       "    <tr>\n",
       "      <th>997</th>\n",
       "      <td>18-dec-2000 00:00</td>\n",
       "      <td>10.3</td>\n",
       "      <td>82.0</td>\n",
       "      <td>22.0</td>\n",
       "      <td>180.0</td>\n",
       "      <td>32.000</td>\n",
       "      <td>1001.2</td>\n",
       "      <td>10.0</td>\n",
       "      <td></td>\n",
       "      <td></td>\n",
       "      <td></td>\n",
       "      <td></td>\n",
       "      <td>2000-12-18 00:00:00</td>\n",
       "    </tr>\n",
       "    <tr>\n",
       "      <th>998</th>\n",
       "      <td>18-dec-2000 01:00</td>\n",
       "      <td>10.1</td>\n",
       "      <td>86.0</td>\n",
       "      <td>23.0</td>\n",
       "      <td>190.0</td>\n",
       "      <td>33.000</td>\n",
       "      <td>1001.2</td>\n",
       "      <td>10.2</td>\n",
       "      <td></td>\n",
       "      <td></td>\n",
       "      <td></td>\n",
       "      <td></td>\n",
       "      <td>2000-12-18 01:00:00</td>\n",
       "    </tr>\n",
       "    <tr>\n",
       "      <th>999</th>\n",
       "      <td>18-dec-2000 02:00</td>\n",
       "      <td>10.2</td>\n",
       "      <td>89.0</td>\n",
       "      <td>20.0</td>\n",
       "      <td>190.0</td>\n",
       "      <td>30.000</td>\n",
       "      <td>1001.0</td>\n",
       "      <td>10.2</td>\n",
       "      <td></td>\n",
       "      <td></td>\n",
       "      <td></td>\n",
       "      <td></td>\n",
       "      <td>2000-12-18 02:00:00</td>\n",
       "    </tr>\n",
       "  </tbody>\n",
       "</table>\n",
       "<p>1000 rows × 13 columns</p>\n",
       "</div>"
      ],
      "text/plain": [
       "                  date  temp  rhum  wdsp    dir    gust     msl  seatp per  \\\n",
       "0    06-nov-2000 09:00  10.2  85.0  33.0  360.0  46.000   995.4   11.1       \n",
       "1    06-nov-2000 10:00  10.0  86.0  30.0  360.0  53.000   995.6   11.1       \n",
       "2    06-nov-2000 11:00   9.9  84.0  34.0  360.0  48.000   996.4   11.1       \n",
       "3    06-nov-2000 12:00   9.4  86.0  34.0  360.0  46.000   996.4   11.1       \n",
       "4    06-nov-2000 13:00   9.7  78.0  34.0  350.0  48.000   996.6   11.1       \n",
       "..                 ...   ...   ...   ...    ...     ...     ...    ...  ..   \n",
       "995  17-dec-2000 22:00   9.8  77.0  23.0  180.0  30.000  1001.2   10.2       \n",
       "996  17-dec-2000 23:00  10.1  81.0  22.0  180.0  29.000  1001.2   10.2       \n",
       "997  18-dec-2000 00:00  10.3  82.0  22.0  180.0  32.000  1001.2   10.0       \n",
       "998  18-dec-2000 01:00  10.1  86.0  23.0  190.0  33.000  1001.2   10.2       \n",
       "999  18-dec-2000 02:00  10.2  89.0  20.0  190.0  30.000  1001.0   10.2       \n",
       "\n",
       "    wavht mxwave wvdir            datetime  \n",
       "0                      2000-11-06 09:00:00  \n",
       "1                      2000-11-06 10:00:00  \n",
       "2                      2000-11-06 11:00:00  \n",
       "3                      2000-11-06 12:00:00  \n",
       "4                      2000-11-06 13:00:00  \n",
       "..    ...    ...   ...                 ...  \n",
       "995                    2000-12-17 22:00:00  \n",
       "996                    2000-12-17 23:00:00  \n",
       "997                    2000-12-18 00:00:00  \n",
       "998                    2000-12-18 01:00:00  \n",
       "999                    2000-12-18 02:00:00  \n",
       "\n",
       "[1000 rows x 13 columns]"
      ]
     },
     "execution_count": 10,
     "metadata": {},
     "output_type": "execute_result"
    }
   ],
   "source": [
    "df"
   ]
  },
  {
   "cell_type": "code",
   "execution_count": 11,
   "metadata": {},
   "outputs": [],
   "source": [
    "import matplotlib.pyplot as plt\n",
    "import matplotlib.dates as mdates\n",
    "import seaborn as sns"
   ]
  },
  {
   "cell_type": "code",
   "execution_count": 12,
   "metadata": {},
   "outputs": [
    {
     "name": "stdout",
     "output_type": "stream",
     "text": [
      "<module 'matplotlib.style.core' from 'C:\\\\Users\\\\E6985\\\\anaconda3\\\\lib\\\\site-packages\\\\matplotlib\\\\style\\\\core.py'>\n",
      "<class 'function'>\n"
     ]
    }
   ],
   "source": [
    "# b_T_hird_P_arty-imports\n",
    "from matplotlib.style.core import use as u\n",
    "# package matplotlib - subpackage style - module core - function use alias u - call\n",
    "u(\"default\")\n",
    "# function fGetModuleType - call\n",
    "fGetModuleType(u)"
   ]
  },
  {
   "cell_type": "markdown",
   "metadata": {},
   "source": [
    "> ~~one last little bit of investigation might do on the dataset - is lets create a plot of something in this dataset - so theres a temp column - which i guess is temperature - seaborn package - import it as sns - sns has a function called lineplot in it - documentation - emphasising continuity with line plots - and they tell you about scatter plots and what a line plot is~~ [\n",
    "[...] I. McLoughlin, \"Time series importing,\" GMIT, November 2018.\n",
    "]"
   ]
  },
  {
   "cell_type": "markdown",
   "metadata": {},
   "source": [
    "> ~~get my plot there a line plot of my datetime on my x-axis - so you can see that seaborn has nicely printed out sunday times there - and i get temperature on my y axis~~ [\n",
    "[...] I. McLoughlin, \"Time series importing,\" GMIT, November 2018.\n",
    "] "
   ]
  },
  {
   "cell_type": "code",
   "execution_count": 13,
   "metadata": {},
   "outputs": [
    {
     "data": {
      "image/png": "[encoded data removed]",
      "text/plain": [
       "<Figure size 640x480 with 1 Axes>"
      ]
     },
     "metadata": {},
     "output_type": "display_data"
    }
   ],
   "source": [
    "sns.lineplot(x=\"datetime\",y=\"temp\",data=df);"
   ]
  },
  {
   "cell_type": "markdown",
   "metadata": {},
   "source": [
    "> ~~summarise - we have imported a csv file from the internet that we found was to do with met eireann data data - we read in one of the columns as a datetime - so we converted it to a datatime so that python would think that it was datatime - and and then we were able to plot and the temperature versus the day time that day time on a plot to have a look at what was happening to the temperature over a period of time - and thats really it - thats in a nutshell thats dealing with time series data in python - the hard part is to manipulate the column that contains a date and a time manipulated into something that python thinks of as a datetime - as opposed to just a string or some other piece of data~~ [\n",
    "[...] I. McLoughlin, \"Time series importing,\" GMIT, November 2018.\n",
    "] "
   ]
  },
  {
   "cell_type": "markdown",
   "metadata": {},
   "source": [
    "###### Creating time series\n",
    "***"
   ]
  },
  {
   "cell_type": "code",
   "execution_count": null,
   "metadata": {},
   "outputs": [],
   "source": [
    "# Create a datetime index for a data frame.\n",
    "\n",
    "# Adapted from: https://pandas.pydata.org/pandas-docs/stable/timeseries.html\n",
    "\n",
    "# 72 hours starting with midnight Jan 1st, 2011\n",
    "rng = pd.date_range('1/1/2011', periods=72, freq='H')"
   ]
  },
  {
   "cell_type": "code",
   "execution_count": null,
   "metadata": {
    "scrolled": true
   },
   "outputs": [],
   "source": [
    "rng"
   ]
  },
  {
   "cell_type": "code",
   "execution_count": null,
   "metadata": {},
   "outputs": [],
   "source": [
    "# Simulate some hospital admissions data using numpy, using our datetime index.\n",
    "\n",
    "import numpy as np\n",
    "ts = pd.DataFrame(np.random.poisson(10, len(rng)), index=rng, columns=[\"admissions\"])"
   ]
  },
  {
   "cell_type": "code",
   "execution_count": null,
   "metadata": {
    "scrolled": true
   },
   "outputs": [],
   "source": [
    "ts"
   ]
  },
  {
   "cell_type": "markdown",
   "metadata": {},
   "source": [
    "##### Accessing and grouping\n",
    "***"
   ]
  },
  {
   "cell_type": "code",
   "execution_count": null,
   "metadata": {},
   "outputs": [],
   "source": [
    "# Calculate the mean number of hospital admissions per hour.\n",
    "ts.mean()"
   ]
  },
  {
   "cell_type": "code",
   "execution_count": null,
   "metadata": {
    "scrolled": true
   },
   "outputs": [],
   "source": [
    "# Look at a specific day's data using the index.\n",
    "ts.loc['2011-01-02 00:00:00':'2011-01-02 23:00:00']"
   ]
  },
  {
   "cell_type": "code",
   "execution_count": null,
   "metadata": {},
   "outputs": [],
   "source": [
    "# Calculate that day's mean.\n",
    "ts.loc['2011-01-02 00:00:00':'2011-01-02 23:00:00'].mean()"
   ]
  },
  {
   "cell_type": "code",
   "execution_count": null,
   "metadata": {},
   "outputs": [],
   "source": [
    "# Use re-sampling to calculate the mean of all days.\n",
    "ts.resample('D').mean()"
   ]
  },
  {
   "cell_type": "markdown",
   "metadata": {},
   "source": [
    "***\n",
    "# End"
   ]
  }
 ],
 "metadata": {
  "kernelspec": {
   "display_name": "Python 3",
   "language": "python",
   "name": "python3"
  },
  "language_info": {
   "codemirror_mode": {
    "name": "ipython",
    "version": 3
   },
   "file_extension": ".py",
   "mimetype": "text/x-python",
   "name": "python",
   "nbconvert_exporter": "python",
   "pygments_lexer": "ipython3",
   "version": "3.8.3"
  }
 },
 "nbformat": 4,
 "nbformat_minor": 2
}
